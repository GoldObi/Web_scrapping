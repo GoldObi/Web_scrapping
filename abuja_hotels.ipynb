{
 "cells": [
  {
   "cell_type": "code",
   "execution_count": 1,
   "id": "b5e6ef1c-d457-46a8-b2a4-2535b268739d",
   "metadata": {},
   "outputs": [],
   "source": [
    "from bs4 import BeautifulSoup\n",
    "import requests\n",
    "import pandas as pd\n",
    "import csv\n"
   ]
  },
  {
   "cell_type": "code",
   "execution_count": 2,
   "id": "76833d95-762e-4854-a1d8-cb72db076234",
   "metadata": {},
   "outputs": [],
   "source": [
    "#Creating an empty lists of variables to store values later\n",
    "hotel_name = []\n",
    "hotel_price = []\n",
    "hotel_location = []\n",
    "hotel_city = []\n",
    "hotel_address = []\n",
    "adds = []\n",
    "new_address = []\n",
    "new_city = []\n",
    "exs = []\n",
    "news = []"
   ]
  },
  {
   "cell_type": "code",
   "execution_count": 3,
   "id": "19b1121c-bc77-4b58-a5cc-597ddbf34db1",
   "metadata": {},
   "outputs": [],
   "source": [
    "# Defining the webscrapper function\n",
    "def webscrapper(webpage, page_number):\n",
    "    next_page = webpage + str(page_number)\n",
    "    response= requests.get(str(next_page))\n",
    "    soup = BeautifulSoup(response.content,\"html.parser\")\n",
    "    soup_hotel= soup.findAll(\"h2\",{\"class\":\"listing-hotels-name\"})\n",
    "    soup_price= soup.findAll(\"p\",{\"class\":\"listing-hotels-prices-discount\"})\n",
    "    soup_location= soup.findAll(\"p\",{\"class\":\"listing-hotels-address color-dark hidden-xs hidden-sm\"})\n",
    "    soup_city = soup.findAll(\"p\",{\"class\":\"listing-hotels-address color-dark hidden-md hidden-lg\"})\n",
    "                          \n",
    "# Loop through the listings and append values to appropriate list                        \n",
    "    for x in range(len(soup_hotel)):\n",
    "        hotel_name.append(soup_hotel[x].text)\n",
    "        hotel_price.append(int(soup_price[x].text.strip('₦,\\navg/night\\n').replace(',','')))\n",
    "        hotel_location.append(soup_location[x].text)\n",
    "        hotel_city.append(soup_city[x].text)\n",
    "        hotel_address.append(soup_location[x].text)\n",
    "    \n",
    "         \n",
    "#Generating the next page url\n",
    "    if page_number < 35:\n",
    "        page_number = page_number + 1\n",
    "        webscrapper(webpage, page_number)\n",
    "\n"
   ]
  },
  {
   "cell_type": "code",
   "execution_count": 4,
   "id": "e474ae2c-c717-4b3f-952d-943785ff04d6",
   "metadata": {},
   "outputs": [],
   "source": [
    "webscrapper('https://hotels.ng/hotels-in-abuja/luxury/',0)  \n"
   ]
  },
  {
   "cell_type": "code",
   "execution_count": 5,
   "id": "68f5e87c-62bf-4868-9b98-d5a29d8dbea2",
   "metadata": {},
   "outputs": [],
   "source": [
    "# Seperate city from address and populate list new_city and new_address\n",
    "countns = 0\n",
    "countnt = 1    \n",
    "\n",
    "for i in hotel_address:\n",
    "    x = i.split('-',1)\n",
    "    for n in x:\n",
    "        us = n.strip()\n",
    "        adds.append(us)\n",
    "for address in adds:\n",
    "    if countns < len(adds) > countnt:\n",
    "        new_city.append(adds[countns])\n",
    "        new_address.append(adds[countnt])\n",
    "        countns += 2\n",
    "        countnt += 2\n",
    "        \n",
    "for n in new_city:\n",
    "    x = n.split(',')\n",
    "    exs.append(x)\n",
    "for x in exs:\n",
    "    news.append(x[1])"
   ]
  },
  {
   "cell_type": "code",
   "execution_count": 6,
   "id": "436cf801-18d3-48dd-aea9-0d29c1cbe16a",
   "metadata": {},
   "outputs": [],
   "source": [
    "# Creating the data frame and populating its data into the csv file\n",
    "df = pd.DataFrame()\n",
    "df['Hotel'] = hotel_name\n",
    "df['Price'] = hotel_price\n",
    "df['City'] = news\n",
    "df['Address'] = new_address\n",
    "df.index += 1"
   ]
  },
  {
   "cell_type": "code",
   "execution_count": null,
   "id": "13285a8e-f561-44cc-8bc2-cc2f735cd24d",
   "metadata": {},
   "outputs": [],
   "source": [
    "df.to_csv('abj_hotel.csv',index=None)\n",
    "df.to_excel('abj_hotel_excel.xlsx')"
   ]
  }
 ],
 "metadata": {
  "kernelspec": {
   "display_name": "Python 3",
   "language": "python",
   "name": "python3"
  },
  "language_info": {
   "codemirror_mode": {
    "name": "ipython",
    "version": 3
   },
   "file_extension": ".py",
   "mimetype": "text/x-python",
   "name": "python",
   "nbconvert_exporter": "python",
   "pygments_lexer": "ipython3",
   "version": "3.8.8"
  }
 },
 "nbformat": 4,
 "nbformat_minor": 5
}
